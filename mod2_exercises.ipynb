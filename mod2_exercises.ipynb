{
 "cells": [
  {
   "cell_type": "markdown",
   "metadata": {},
   "source": [
    "Data Science Fundamentals: Python |\n",
    "[Table of Contents](../index.ipynb)\n",
    "- - - \n",
    "<!--NAVIGATION-->\n",
    "Module 2. Python Data | [Simple Types](./01_simple_types.ipynb) | [Data Structures](./02_data_structures.ipynb) | **[Exercises](./03_data_exercises.ipynb)**"
   ]
  },
  {
   "cell_type": "markdown",
   "metadata": {},
   "source": [
    "# Module 2: Practice Exercises"
   ]
  },
  {
   "cell_type": "markdown",
   "metadata": {},
   "source": [
    "1. Get a space-separated list of integers from the user, create a tuple of those integers. Then compute and print the result of hash(tuple).  [Hint](https://docs.python.org/3/library/functions.html#hash). **Hash()**"
   ]
  },
  {
   "cell_type": "markdown",
   "metadata": {},
   "source": [
    "A **[hash](https://en.wikipedia.org/wiki/Hash_function)** is an fixed sized integer that identifies a particular value. Each value needs to have its own hash, so for the same value you will get the same hash even if it's not the same object."
   ]
  },
  {
   "cell_type": "code",
   "execution_count": 4,
   "metadata": {},
   "outputs": [
    {
     "name": "stdout",
     "output_type": "stream",
     "text": [
      "Enter a list of integers :1 2 3 4 5\n",
      "-5659871693760987716\n"
     ]
    }
   ],
   "source": [
    "list1 = list( map(int, input(\"Enter a list of integers :\").split()))\n",
    "tuple1 = tuple(list1)\n",
    "print(hash(tuple1))"
   ]
  },
  {
   "cell_type": "markdown",
   "metadata": {},
   "source": [
    "## Explaining:  if __name__ == __main__ in relation with Functions"
   ]
  },
  {
   "cell_type": "code",
   "execution_count": 16,
   "metadata": {},
   "outputs": [
    {
     "name": "stdout",
     "output_type": "stream",
     "text": [
      "Executed when invoked directly\n"
     ]
    }
   ],
   "source": [
    "# Python program to execute  \n",
    "# main directly\n",
    "\n",
    "# block 2\n",
    "if __name__ == \"__main__\": \n",
    "    print(\"Executed when invoked directly\")\n",
    "else: \n",
    "    print(\"Executed when imported\")"
   ]
  },
  {
   "cell_type": "markdown",
   "metadata": {},
   "source": [
    "- All of the code that is at indentation level 0 [Block 1] gets executed. Functions and classes that are defined are, well, defined, but none of their code runs.\n",
    "- Here, as we executed script.py directly __name__ variable will be __main__. So, code in this if block[Block 2] will only run if that module is the entry point to your program.\n",
    "- **Thus, you can test whether your script is being run directly or being imported by something else by testing __name__ variable.**\n",
    "- If script is getting imported by some other module at that time __name__ will be module name."
   ]
  },
  {
   "cell_type": "code",
   "execution_count": 18,
   "metadata": {},
   "outputs": [
    {
     "name": "stdout",
     "output_type": "stream",
     "text": [
      "I am inside function\n"
     ]
    }
   ],
   "source": [
    "# Python program to execute  \n",
    "# function directly \n",
    "def my_function(): \n",
    "      print(\"I am inside function\")\n",
    "  \n",
    "# We can test function by calling it. \n",
    "my_function() "
   ]
  },
  {
   "cell_type": "markdown",
   "metadata": {},
   "source": [
    "Now if we want to use that module by importing we have to comment out our call. Rather than that approach best approach is to use following code:"
   ]
  },
  {
   "cell_type": "markdown",
   "metadata": {},
   "source": [
    "- Every Python module has it’s __name__ defined and if this is ‘__main__’, it implies that the module is being run standalone by the user and we can do corresponding appropriate actions.\n",
    "- If you import this script as a module in another script, the __name__ is set to the name of the script/module.\n",
    "- Python files can act as either reusable modules, or as standalone programs.\n",
    "- if __name__ == “main”: is used to execute some code only if the file was run directly, and not imported."
   ]
  },
  {
   "cell_type": "code",
   "execution_count": 1,
   "metadata": {},
   "outputs": [],
   "source": [
    "from itertools import islice\n",
    "\n",
    "def split_every(n, iterable):\n",
    "    i = iter(iterable)\n",
    "    piece = list(islice(i, n))\n",
    "    while piece:\n",
    "        yield piece\n",
    "        piece = list(islice(i, n))"
   ]
  },
  {
   "cell_type": "markdown",
   "metadata": {},
   "source": [
    "2. Take the following two lists. Create a third list by picking a odd-index elements from the first list and even-index elements from the second."
   ]
  },
  {
   "cell_type": "code",
   "execution_count": 1,
   "metadata": {},
   "outputs": [],
   "source": [
    "list1 = [3, 6, 9, 12, 15, 18, 21]\n",
    "list2 = [4, 8, 12, 16, 20, 24, 28]"
   ]
  },
  {
   "cell_type": "code",
   "execution_count": 3,
   "metadata": {},
   "outputs": [
    {
     "name": "stdout",
     "output_type": "stream",
     "text": [
      "Element at odd_index positions from list1:\n",
      "[6, 12, 18]\n",
      "Element at even_index positions from list2:\n",
      "[4, 12, 20, 28]\n",
      "The Third list :  [4, 6, 12, 12, 18, 20, 28]\n"
     ]
    }
   ],
   "source": [
    "#Take the following two lists. \n",
    "#Create a third list by picking a odd-index elements from the first list and even-index elements from the second.\n",
    "\n",
    "list1 = [3, 6, 9, 12, 15, 18, 21]\n",
    "list2 = [4, 8, 12, 16, 20, 24, 28]\n",
    "list3 = []\n",
    "#list1[1::2] odd_index elements from list1\n",
    "#list2[0::2] even_index elements from list2\n",
    " \n",
    "oddElements = list1[1::2]\n",
    "print(\"Element at odd_index positions from list1:\")\n",
    "print(oddElements)\n",
    "\n",
    "EvenElements = list2[0::2]\n",
    "print(\"Element at even_index positions from list2:\")\n",
    "print(EvenElements)\n",
    "\n",
    "list3 = oddElements + EvenElements\n",
    "sortlist = sorted(list3)\n",
    "print(\"The Third list : \", (sortlist))"
   ]
  },
  {
   "cell_type": "markdown",
   "metadata": {},
   "source": [
    "3. Take the following list. Slice it into three equal chunks and reverse each list."
   ]
  },
  {
   "cell_type": "code",
   "execution_count": 2,
   "metadata": {},
   "outputs": [],
   "source": [
    "sampleList = [11, 45, 8, 23, 14, 12, 78, 45, 89]"
   ]
  },
  {
   "cell_type": "code",
   "execution_count": 14,
   "metadata": {},
   "outputs": [
    {
     "name": "stdout",
     "output_type": "stream",
     "text": [
      "Original list  [11, 45, 8, 23, 14, 12, 78, 45, 89]\n",
      "Chunk  1 [11, 45, 8]\n",
      "After reversing it  [8, 45, 11]\n",
      "Chunk  2 [23, 14, 12]\n",
      "After reversing it  [12, 14, 23]\n",
      "Chunk  3 [78, 45, 89]\n",
      "After reversing it  [89, 45, 78]\n"
     ]
    }
   ],
   "source": [
    "#Slice the list into three equal chunks and reverse each list.\n",
    "sampleList = [11, 45, 8, 23, 14, 12, 78, 45, 89]\n",
    "\n",
    "print(\"Original list \", sampleList)\n",
    "\n",
    "length = len(sampleList)\n",
    "chunkSize  = int(length/3)\n",
    "start = 0\n",
    "end = chunkSize\n",
    "for i in range(1, 4, 1):\n",
    "  indexes = slice(start, end, 1)\n",
    "  listChunk = sampleList[indexes]\n",
    "  print(\"Chunk \", i , listChunk)\n",
    "  print(\"After reversing it \", list(reversed(listChunk)))\n",
    "  start = end\n",
    "  if(i != 2):\n",
    "    end +=chunkSize\n",
    "  else:\n",
    "    end += length - chunkSize"
   ]
  },
  {
   "cell_type": "markdown",
   "metadata": {},
   "source": [
    "4. Iterate through a given list and check if a given element already exists in a dictionary as a key’s value. If not, delete it from the list."
   ]
  },
  {
   "cell_type": "code",
   "execution_count": 3,
   "metadata": {},
   "outputs": [],
   "source": [
    "rollNumber = [47, 64, 69, 37, 76, 83, 95, 97]\n",
    "sampleDict ={'Zach':47, 'Emma':69, 'Kelly':76, 'Jason':97}"
   ]
  },
  {
   "cell_type": "code",
   "execution_count": 34,
   "metadata": {},
   "outputs": [
    {
     "name": "stdout",
     "output_type": "stream",
     "text": [
      "[47, 69, 76, 97]\n"
     ]
    }
   ],
   "source": [
    "#Iterate through a given list and check if a given element already exists in a dictionary as a key’s value. \n",
    "#If not, delete it from the list.\n",
    "\n",
    "rollnumber  = [47, 64, 69, 37, 76, 83, 95, 97]\n",
    "sampleDict  ={'Jhon':47, 'Emma':69, 'Kelly':76, 'Jason':97} \n",
    "\n",
    "rollnumber[:]= [item for item in rollnumber \n",
    "                if item in sampleDict.values()]\n",
    "print(rollnumber)"
   ]
  },
  {
   "cell_type": "markdown",
   "metadata": {},
   "source": [
    "Exercise 4\n",
    "Choose all the valid string creation in python \n",
    "\n",
    "str1 = “str1”\n",
    "str1 = ‘str1’\n",
    "str1 = ”’str1”’\n",
    "str1 = str(“str1”)\n"
   ]
  },
  {
   "cell_type": "code",
   "execution_count": 73,
   "metadata": {},
   "outputs": [
    {
     "name": "stdout",
     "output_type": "stream",
     "text": [
      "str1\n",
      "str1\n",
      "str1\n"
     ]
    }
   ],
   "source": [
    "#Choose all the valid string creation in python \n",
    "\n",
    "str1 = \"str1\"  #Strings in python are surrounded by either single quotation marks, or double quotation marks\n",
    "str1 = 'str1'\n",
    "#str1 = \"'str1”’ -----is not valid string format\n",
    "str1 = str(\"str1\")\n",
    "\n",
    "print(str1)\n",
    "print(str1)\n",
    "print(str1)\n"
   ]
  },
  {
   "cell_type": "markdown",
   "metadata": {},
   "source": [
    "Exercise 5:\n",
    "What is the output of the following code and why?\n",
    "\n",
    "print(bool(0), bool(3.14159), bool(-3), bool(1.0+1j))"
   ]
  },
  {
   "cell_type": "code",
   "execution_count": 62,
   "metadata": {},
   "outputs": [
    {
     "name": "stdout",
     "output_type": "stream",
     "text": [
      "bool(0)       : False\n",
      "bool(3.14159) : True\n",
      "bool(-3)      : True\n",
      "bool(1.0+1j)  : True\n"
     ]
    }
   ],
   "source": [
    "#print(bool(0), bool(3.14159), bool(-3), bool(1.0+1j))\n",
    "\n",
    "print(\"bool(0)       :\" ,  bool(0))\n",
    "\n",
    "print(\"bool(3.14159) :\", bool(3.14159))\n",
    "\n",
    "print(\"bool(-3)      :\",bool(-3))\n",
    "\n",
    "print(\"bool(1.0+1j)  :\", bool(1.0+1j))\n",
    "\n",
    "#The bool() method is used to return or convert a value to a Boolean value i.e., True or False.\n",
    "# it pass value as Zero so it returns False, rest all pass at least some parameter, other than Zero so it returns True.\n",
    "#It returns True if the parameter or value passed is True.\n",
    "#It returns False if the parameter or value passed is False.\n",
    "#any numeric type is False if equal to zero, and True otherwise:\n",
    "\n"
   ]
  },
  {
   "cell_type": "markdown",
   "metadata": {},
   "source": [
    "Exercise 6:\n",
    "What is the data type of print(type(0xFF))"
   ]
  },
  {
   "cell_type": "code",
   "execution_count": 71,
   "metadata": {},
   "outputs": [
    {
     "name": "stdout",
     "output_type": "stream",
     "text": [
      "The data type of (0xff) is: <class 'int'>\n",
      "The value of 0xff :  255\n"
     ]
    }
   ],
   "source": [
    "#What is the data type of print(type(0xFF))\n",
    "print(\"The data type of (0xff) is:\",type(0xff)) \n",
    "#The hexadecimal number system has numbers 0-9 and then A-F. For that, use the prefix 0x or 0X\n",
    "type(0xff)\n",
    "print(\"The value of 0xff : \", 0xff)"
   ]
  },
  {
   "cell_type": "markdown",
   "metadata": {},
   "source": [
    "## What is the [Lambda](https://realpython.com/python-lambda/#first-example) function?"
   ]
  },
  {
   "cell_type": "markdown",
   "metadata": {},
   "source": [
    "A Python lambda function behaves like a normal function in regard to arguments."
   ]
  },
  {
   "cell_type": "markdown",
   "metadata": {},
   "source": [
    "Lambda functions are used when you need a function for a short period of time. This is commonly used when you want to pass a function as an argument to higher-order functions, that is, functions that take other functions as their arguments."
   ]
  },
  {
   "cell_type": "code",
   "execution_count": 1,
   "metadata": {},
   "outputs": [
    {
     "data": {
      "text/plain": [
       "'Full name: Guido Van Rossum'"
      ]
     },
     "execution_count": 1,
     "metadata": {},
     "output_type": "execute_result"
    }
   ],
   "source": [
    "full_name = lambda first, last: f'Full name: {first.title()} {last.title()}'\n",
    "full_name('guido', 'van rossum')"
   ]
  },
  {
   "cell_type": "markdown",
   "metadata": {},
   "source": [
    "The lambda function assigned to full_name takes two arguments and returns a string interpolating the two parameters first and last. As expected, the definition of the lambda lists the arguments with no parentheses, whereas calling the function is done exactly like a normal Python function, with parentheses surrounding the arguments."
   ]
  },
  {
   "cell_type": "markdown",
   "metadata": {},
   "source": [
    "## Extra Points\n",
    "- - -"
   ]
  },
  {
   "cell_type": "markdown",
   "metadata": {},
   "source": [
    "1. ***Optional Exercise (Extra Points)***.  Write a Python program to convert a tuple to a string."
   ]
  },
  {
   "cell_type": "code",
   "execution_count": 16,
   "metadata": {},
   "outputs": [
    {
     "name": "stdout",
     "output_type": "stream",
     "text": [
      "<class 'tuple'>\n",
      "('Rose',)  : is Tuple\n",
      "<class 'str'>\n",
      "Rose       : is string \n"
     ]
    }
   ],
   "source": [
    "#Program to convert a tuple to string\n",
    "t = ('Rose',)\n",
    "print(type(t))\n",
    "print(t, ' : is Tuple')\n",
    "#converting to string\n",
    "st = ('Rose')\n",
    "\n",
    "#print('Tuple is converted to string')\n",
    "print(type(st))\n",
    "print(st, '      : is string ')\n"
   ]
  },
  {
   "cell_type": "markdown",
   "metadata": {},
   "source": [
    "2. ***Optional Exercise (Extra Points)***.  Write a Python program to check whether an element exists within a tuple."
   ]
  },
  {
   "cell_type": "code",
   "execution_count": 1,
   "metadata": {},
   "outputs": [
    {
     "name": "stdout",
     "output_type": "stream",
     "text": [
      "True\n",
      "False\n"
     ]
    }
   ],
   "source": [
    "#To check whether an element exists within a tuple\n",
    "\n",
    "t = (2,3,4,5,6,7,8)\n",
    "\n",
    "print(3 in t) # check the element 3 is in tuple-t\n",
    "print(1 in t) # check the elements 1 is in tuple-t"
   ]
  },
  {
   "cell_type": "markdown",
   "metadata": {},
   "source": [
    "3. ***Optional Exercise (Extra Points)***.  Write a Python program to print a tuple with string formatting."
   ]
  },
  {
   "cell_type": "raw",
   "metadata": {},
   "source": [
    "Sample tuple : (100, 200, 300)\n",
    "Output : This is a tuple (100, 200, 300)"
   ]
  },
  {
   "cell_type": "code",
   "execution_count": 2,
   "metadata": {},
   "outputs": [
    {
     "name": "stdout",
     "output_type": "stream",
     "text": [
      "This is a tuple  (100, 200, 300)\n",
      "<class 'str'>\n"
     ]
    }
   ],
   "source": [
    "#program to print a tuple with string format\n",
    "\n",
    "Sample_tuple = (100, 200, 300)\n",
    "print('This is a tuple ', str(Sample_tuple))\n",
    "#print('This is a tuple {0}'.format(Sample_tuple))          another method of string format\n",
    "\n",
    "print(type(str(Sample_tuple)))"
   ]
  },
  {
   "cell_type": "markdown",
   "metadata": {},
   "source": [
    "- - - \n",
    "<!--NAVIGATION-->\n",
    "Module 2. Python Data | [Simple Types](./01_simple_types.ipynb) | [Data Structures](./02_data_structures.ipynb) | **[Exercises](./03_data_exercises.ipynb)**\n",
    "<br>\n",
    "[Top](#)"
   ]
  },
  {
   "cell_type": "markdown",
   "metadata": {},
   "source": [
    "- - -\n",
    "\n",
    "Copyright © 2020 Qualex Consulting Services Incorporated."
   ]
  }
 ],
 "metadata": {
  "kernelspec": {
   "display_name": "Python 3",
   "language": "python",
   "name": "python3"
  },
  "language_info": {
   "codemirror_mode": {
    "name": "ipython",
    "version": 3
   },
   "file_extension": ".py",
   "mimetype": "text/x-python",
   "name": "python",
   "nbconvert_exporter": "python",
   "pygments_lexer": "ipython3",
   "version": "3.8.5"
  }
 },
 "nbformat": 4,
 "nbformat_minor": 4
}
