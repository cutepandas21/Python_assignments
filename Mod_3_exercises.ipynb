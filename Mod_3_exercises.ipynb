{
 "cells": [
  {
   "cell_type": "markdown",
   "metadata": {},
   "source": [
    "Data Science Fundamentals: Python |\n",
    "[Table of Contents](../index.ipynb)\n",
    "- - - \n",
    "<!--NAVIGATION-->\n",
    "Module 3. [Control Flow](./01_mod_control_flow.ipynb) | [Statements](./02_python_statements.ipynb) | [Functions](./03_python_functions.ipynb) | **[Exercises](./04_mod_exercises.ipynb)**\n",
    "<!--NAVIGATION-->\n",
    "Supplemental. [While Loops](./supplemental/01_while-loop.ipynb) | [If Elif Else](./supplemental/02_if-elif-else.ipynb) | [Break Continue](./supplemental/03_break_continue.ipynb) | [For Loops](./04_for_loop.ipynb)\n",
    "<!--NAVIGATION-->\n",
    "Optional. [Writing Assignment](./optional/writing_assignment.ipynb)"
   ]
  },
  {
   "cell_type": "markdown",
   "metadata": {},
   "source": [
    "# Module 3: Practice Exercises"
   ]
  },
  {
   "cell_type": "markdown",
   "metadata": {},
   "source": [
    "1. Guess a number between 1 to 9 given by the user. Hint. [Random](https://docs.python.org/3/library/random.html)"
   ]
  },
  {
   "cell_type": "code",
   "execution_count": 1,
   "metadata": {},
   "outputs": [
    {
     "name": "stdout",
     "output_type": "stream",
     "text": [
      "Guess a number between 1 and 10 until you get it right : 2\n",
      "Guess a number between 1 and 10 until you get it right : 4\n",
      "Guess a number between 1 and 10 until you get it right : 5\n",
      "You guessed correct!\n"
     ]
    }
   ],
   "source": [
    "import random\n",
    "\n",
    "target_num, guess_num = random.randint(1, 10), 0\n",
    "while target_num != guess_num:\n",
    "    guess_num = int(input('Guess a number between 1 and 10 until you get it right : '))\n",
    "print('You guessed correct!')"
   ]
  },
  {
   "cell_type": "markdown",
   "metadata": {},
   "source": [
    "###### 2. Check the validity of password input by the user. Hint. [Re](https://docs.python.org/3/library/re.html) which does matching operations much like Perl.\n",
    "\n",
    "Validation:\n",
    "\n",
    "- At least 1 letter between [a-z] and 1 letter between [A-Z].\n",
    "- At least 1 number between [0-9].\n",
    "- At least 1 character from [$#@].\n",
    "- Minimum length 6 characters.\n",
    "- Maximum length 16 characters."
   ]
  },
  {
   "cell_type": "code",
   "execution_count": 5,
   "metadata": {},
   "outputs": [
    {
     "name": "stdout",
     "output_type": "stream",
     "text": [
      "Input your password :Wercv234@3a\n",
      "Valid Password\n"
     ]
    }
   ],
   "source": [
    "#Check the validity of password input by the user\n",
    "\n",
    "import re\n",
    "p= input(\"Input your password :\")\n",
    "x = True\n",
    "while x:  \n",
    "    if (len(p)<6 or len(p)>12):\n",
    "        break\n",
    "    elif not re.search(\"[a-z]\",p):\n",
    "        break\n",
    "    elif not re.search(\"[0-9]\",p):\n",
    "        break\n",
    "    elif not re.search(\"[A-Z]\",p):\n",
    "        break\n",
    "    elif not re.search(\"[$#@]\",p):\n",
    "        break\n",
    "    elif re.search(\"\\s\",p):\n",
    "        break\n",
    "    else:\n",
    "        print(\"Valid Password\")\n",
    "        x=False\n",
    "        break\n",
    "\n",
    "if x:\n",
    "    print(\"Not a Valid Password\") "
   ]
  },
  {
   "cell_type": "markdown",
   "metadata": {},
   "source": [
    "3. Get input of the age of 3 people by user and determine oldest and youngest among them"
   ]
  },
  {
   "cell_type": "code",
   "execution_count": 11,
   "metadata": {},
   "outputs": [
    {
     "name": "stdout",
     "output_type": "stream",
     "text": [
      "Enter First Person's Age : 23\n",
      "Enter Second Person's Age : 34\n",
      "Enter Third Person's Age : 45\n",
      "The Oldest of All Three People is : 45\n",
      "The Youngest Of All Three People is : 23\n"
     ]
    }
   ],
   "source": [
    "#Get input of the age of 3 people by user and determine oldest and youngest among them\n",
    "\n",
    "num1 = int(input(\"Enter First Person's Age : \"))\n",
    "num2 = int(input(\"Enter Second Person's Age : \"))\n",
    "num3 = int(input(\"Enter Third Person's Age : \"))\n",
    "\n",
    "if (num1 >= num2)   and (num1 >= num3):\n",
    "    oldest  = num1\n",
    "elif (num2 >= num1) and (num2 >= num3):\n",
    "    oldest = num2\n",
    "else:\n",
    "    oldest = num3\n",
    "print(\"The Oldest of All Three People is :\", oldest)\n",
    "\n",
    "if (num1 <= num2)   and (num1 <= num3):\n",
    "    youngest = num1\n",
    "elif (num2 <= num1) and (num2<= num3):\n",
    "    youngest = num2\n",
    "else:\n",
    "    youngest = num3\n",
    "\n",
    "print(\"The Youngest Of All Three People is :\", youngest)"
   ]
  },
  {
   "cell_type": "markdown",
   "metadata": {},
   "source": [
    "4. A student will not be allowed to sit in exam if his/her attendance is less than 75%.\n",
    "\n",
    "Take following input from user\n",
    "\n",
    "- Number of classes held\n",
    "- Number of classes attended.\n",
    "- And print percentage of class attended\n",
    "- Is student is allowed to sit in exam or not?"
   ]
  },
  {
   "cell_type": "code",
   "execution_count": 1,
   "metadata": {},
   "outputs": [
    {
     "name": "stdout",
     "output_type": "stream",
     "text": [
      "Number of classes held :10\n",
      "Number of classes attended :4\n",
      "Percentage of class attended :  40.0\n",
      "Student will not be allowed to in the exam\n"
     ]
    }
   ],
   "source": [
    "class_num  = int(input(\"Number of classes held :\"))\n",
    "att_num = int(input(\"Number of classes attended :\"))\n",
    "\n",
    "percentage = (att_num / class_num)*100\n",
    "print(\"Percentage of class attended : \",percentage)\n",
    "\n",
    "if percentage >= 75:\n",
    "    print(\"Student will be allowed to sit in the exam\")\n",
    "else:\n",
    "    print(\"Student will not be allowed to in the exam\")"
   ]
  },
  {
   "cell_type": "markdown",
   "metadata": {},
   "source": [
    "5. Get an integer N from the user and perform the following actions:\n",
    "\n",
    "Find out - \n",
    "- if N is odd, print \"weird\"\n",
    "- if N is even and in the inclusive range of 2 to 5, print \"Not Weird\"\n",
    "- if N is even and in the inclusive range of 6 to 20, print \"Weird\"\n",
    "- if N is even and greater than 20, print \"Not Weird\""
   ]
  },
  {
   "cell_type": "code",
   "execution_count": 13,
   "metadata": {},
   "outputs": [
    {
     "name": "stdout",
     "output_type": "stream",
     "text": [
      "Enter a number :22\n",
      "22  is even number\n",
      "Not Weird\n"
     ]
    }
   ],
   "source": [
    "# Given an integer, n, perform the following conditional actions:\n",
    "# If n is odd, print Weird\n",
    "# If n is even and in the inclusive range of 2 to 5, print Not Weird\n",
    "# If n is even and in the inclusive range of 6 to 20, print Weird\n",
    "# If n is even and greater than 20, print Not Weird\n",
    "\n",
    "n = int(input(\"Enter a number :\"))\n",
    "\n",
    "if n%2 == 1:\n",
    "        print(\"{} is  odd number\".format(n))\n",
    "        print(\"Weird\")\n",
    "        #  break;\n",
    "else:\n",
    "    print(\"{}  is even number\".format(n))\n",
    "    if (n>=2) and (n<=5):\n",
    "        print(\"Not weird\")\n",
    "    elif (n>=6) and (n<=20):\n",
    "        print(\"Weird\")\n",
    "    else:\n",
    "        print(\"Not Weird\")"
   ]
  },
  {
   "cell_type": "markdown",
   "metadata": {},
   "source": [
    "\n",
    "## Extra Points\n",
    "- - -"
   ]
  },
  {
   "cell_type": "markdown",
   "metadata": {},
   "source": [
    "1. ***Optional Exercise (Extra Points)***. Write a Python program to reverse a string."
   ]
  },
  {
   "cell_type": "raw",
   "metadata": {},
   "source": [
    "Sample String : \"1234abcd\"\n",
    "Expected Output : \"dcba4321\""
   ]
  },
  {
   "cell_type": "code",
   "execution_count": 8,
   "metadata": {},
   "outputs": [
    {
     "name": "stdout",
     "output_type": "stream",
     "text": [
      "Actual string     : 1234abcd\n",
      "Reverse of string : dcba4321\n"
     ]
    }
   ],
   "source": [
    "# program to reverse a string\n",
    "s1 =\"1234abcd\"\n",
    "print(\"Actual string     :\", s1)\n",
    "print(\"Reverse of string :\", s1[::-1])"
   ]
  },
  {
   "cell_type": "markdown",
   "metadata": {},
   "source": [
    "2. ***Optional Exercise (Extra Points)***. Write a Python function to multiply all the numbers in a list. "
   ]
  },
  {
   "cell_type": "raw",
   "metadata": {},
   "source": [
    "Sample List : (8, 2, 3, -1, 7)\n",
    "Expected Output : -336"
   ]
  },
  {
   "cell_type": "code",
   "execution_count": 10,
   "metadata": {},
   "outputs": [
    {
     "name": "stdout",
     "output_type": "stream",
     "text": [
      "Output  : -336\n"
     ]
    }
   ],
   "source": [
    "# multiply all the numbers in a list\n",
    "s=1\n",
    "for i in [8, 2, 3, -1, 7]:\n",
    "    s=s*i\n",
    "\n",
    "print(\"Output  :\",s)\n"
   ]
  },
  {
   "cell_type": "markdown",
   "metadata": {},
   "source": [
    "3. ***Optional Exercise (Extra Points)***. Write a Python function that accepts a string and calculate the number of upper case letters and lower case letters."
   ]
  },
  {
   "cell_type": "raw",
   "metadata": {},
   "source": [
    "Sample String : 'The quick Brow Fox'\n",
    "Expected Output :\n",
    "No. of Upper case characters : 3\n",
    "No. of Lower case Characters : 12"
   ]
  },
  {
   "cell_type": "code",
   "execution_count": 5,
   "metadata": {},
   "outputs": [
    {
     "name": "stdout",
     "output_type": "stream",
     "text": [
      "Original String :  The quick Brown Fox\n",
      "Number of Upper case characters :  3\n",
      "Number of Lower case characters :  13\n"
     ]
    }
   ],
   "source": [
    "#calculate the number of upper case letters and lower case letters\n",
    "\n",
    "def upper_lower(string):\n",
    "    lowercase = 0\n",
    "    uppercase = 0\n",
    "\n",
    "    for letter in string:\n",
    "        if letter.isupper():\n",
    "            uppercase += 1\n",
    "        elif letter.islower():\n",
    "            lowercase += 1\n",
    "\n",
    "    print(\"Original String : \", string)\n",
    "    print(\"Number of Upper case characters : \", uppercase)\n",
    "    print(\"Number of Lower case characters : \", lowercase)  \n",
    "\n",
    "\n",
    "upper_lower('The quick Brown Fox')"
   ]
  },
  {
   "cell_type": "markdown",
   "metadata": {},
   "source": [
    "- - -\n",
    "\n",
    "Copyright © 2020 Qualex Consulting Services Incorporated."
   ]
  }
 ],
 "metadata": {
  "kernelspec": {
   "display_name": "Python 3",
   "language": "python",
   "name": "python3"
  },
  "language_info": {
   "codemirror_mode": {
    "name": "ipython",
    "version": 3
   },
   "file_extension": ".py",
   "mimetype": "text/x-python",
   "name": "python",
   "nbconvert_exporter": "python",
   "pygments_lexer": "ipython3",
   "version": "3.8.5"
  }
 },
 "nbformat": 4,
 "nbformat_minor": 4
}
